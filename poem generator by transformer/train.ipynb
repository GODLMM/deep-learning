{
 "cells": [
  {
   "cell_type": "code",
   "execution_count": 1,
   "metadata": {},
   "outputs": [
    {
     "name": "stderr",
     "output_type": "stream",
     "text": [
      "/home/godming/anaconda3/lib/python3.6/site-packages/h5py/__init__.py:36: FutureWarning: Conversion of the second argument of issubdtype from `float` to `np.floating` is deprecated. In future, it will be treated as `np.float64 == np.dtype(float).type`.\n",
      "  from ._conv import register_converters as _register_converters\n"
     ]
    }
   ],
   "source": [
    "import tensorflow as tf\n",
    "import numpy as np\n",
    "from modules import *\n",
    "import time"
   ]
  },
  {
   "cell_type": "code",
   "execution_count": 2,
   "metadata": {},
   "outputs": [
    {
     "name": "stdout",
     "output_type": "stream",
     "text": [
      "Number of samples: 34160\n",
      "Number of unique tokens: 6241\n",
      "Max sequence length for inputs: 26\n",
      "Max sequence length for outputs: 82\n"
     ]
    }
   ],
   "source": [
    "data_path='poetry.txt'\n",
    "#载入和预处理数据\n",
    "from data_batches import get_data,get_batches\n",
    "data=get_data(data_path)\n",
    "encoder_input_texts_int=data[0]\n",
    "decoder_input_texts_int=data[1]\n",
    "decoder_target_texts_int=data[2]\n",
    "token_index=data[3]\n",
    "int_str=data[4]\n",
    "num_tokens=len(int_str)"
   ]
  },
  {
   "cell_type": "code",
   "execution_count": 3,
   "metadata": {},
   "outputs": [],
   "source": [
    "#超参数\n",
    "batch_size=32\n",
    "epochs=100\n",
    "embedding_size=200\n",
    "decoder_pad_int=token_index[' ']\n",
    "encoder_pad_int=token_index[' ']\n",
    "learning_rate=0.001"
   ]
  },
  {
   "cell_type": "code",
   "execution_count": 4,
   "metadata": {},
   "outputs": [],
   "source": [
    "encoder_data=tf.placeholder(tf.int32,[None,None],name='encoder_data')\n",
    "decoder_data=tf.placeholder(tf.int32,[None,None],name='decoder_data')\n",
    "target_data=tf.placeholder(tf.int32,[None,None],name='target_data')\n",
    "target_weights=tf.placeholder(tf.float32,[None,None],name='target_weights')"
   ]
  },
  {
   "cell_type": "code",
   "execution_count": 5,
   "metadata": {},
   "outputs": [],
   "source": [
    "#Embedding\n",
    "embeddings=tf.Variable(tf.random_uniform([num_tokens,embedding_size],-1.0,1.0))\n",
    "encoder_embed=tf.nn.embedding_lookup(embeddings,encoder_data,name='Encoder_Embedding')\n",
    "encoder_embed=PositionEmbedding(encoder_embed,name='Encoder_Position')\n",
    "decoder_embed=tf.nn.embedding_lookup(embeddings,decoder_data,name='Decoder_Embedding')\n",
    "decoder_embed=PositionEmbedding(decoder_embed,name='Decoder_Position')"
   ]
  },
  {
   "cell_type": "code",
   "execution_count": 6,
   "metadata": {},
   "outputs": [],
   "source": [
    "with tf.variable_scope('Encoder'):\n",
    "    en_M_A1,en_Atten1=Multihead_Attention(encoder_embed,encoder_embed,units=embedding_size,heads=10,name='Multihead_Attention1')\n",
    "    en_fc1=feedforward(en_M_A1,units=[4*embedding_size,embedding_size],name='feed_forward1')\n",
    "    en_M_A2,en_Atten2=Multihead_Attention(en_fc1,en_fc1,units=embedding_size,heads=10,name='Multihead_Attention2')\n",
    "    en_fc2=feedforward(en_M_A2,units=[4*embedding_size,embedding_size],name='feed_forward2')"
   ]
  },
  {
   "cell_type": "code",
   "execution_count": 7,
   "metadata": {},
   "outputs": [],
   "source": [
    "with tf.variable_scope('Decoder'):\n",
    "    de_M_A1,de_Atten1=Multihead_Attention(decoder_embed,decoder_embed,units=embedding_size,heads=10,Mask=True,name='Multihead_Attention1')\n",
    "    de_M_A2,de_Atten2=Multihead_Attention(de_M_A1,en_fc2,units=embedding_size,heads=10,name='Multihead_Attention2')\n",
    "    de_fc1=feedforward(de_M_A2,units=[4*embedding_size,embedding_size],name='feed_forward1')\n",
    "    de_M_A3,de_Atten3=Multihead_Attention(de_fc1,de_fc1,units=embedding_size,heads=10,Mask=True,name='Multihead_Attention3')\n",
    "    de_M_A4,de_Atten4=Multihead_Attention(de_M_A3,en_fc2,units=embedding_size,heads=10,name='Multihead_Attention4')\n",
    "    de_fc2=feedforward(de_M_A4,units=[4*embedding_size,embedding_size],name='feed_forward2')"
   ]
  },
  {
   "cell_type": "code",
   "execution_count": 8,
   "metadata": {},
   "outputs": [],
   "source": [
    "logits=tf.layers.dense(de_fc1,units=num_tokens,name='logits')\n",
    "outputs=tf.argmax(tf.nn.softmax(logits),axis=-1)"
   ]
  },
  {
   "cell_type": "code",
   "execution_count": 9,
   "metadata": {},
   "outputs": [],
   "source": [
    "temp=tf.nn.sparse_softmax_cross_entropy_with_logits(labels=target_data,logits=logits)\n",
    "cost=tf.reduce_sum(temp*target_weights)/batch_size"
   ]
  },
  {
   "cell_type": "code",
   "execution_count": 10,
   "metadata": {},
   "outputs": [],
   "source": [
    "train_op=tf.train.RMSPropOptimizer(learning_rate).minimize(cost)"
   ]
  },
  {
   "cell_type": "code",
   "execution_count": 11,
   "metadata": {},
   "outputs": [],
   "source": [
    "saver = tf.train.Saver()\n",
    "sess=tf.Session()\n",
    "init=tf.global_variables_initializer()\n",
    "sess.run(init)\n",
    "train_writer=tf.summary.FileWriter('log',sess.graph)\n",
    "train_writer.add_graph(sess.graph)"
   ]
  },
  {
   "cell_type": "code",
   "execution_count": 12,
   "metadata": {},
   "outputs": [],
   "source": [
    "saver.restore(sess,'./save_real/model.ckpt')"
   ]
  },
  {
   "cell_type": "code",
   "execution_count": 38,
   "metadata": {
    "scrolled": true
   },
   "outputs": [
    {
     "name": "stdout",
     "output_type": "stream",
     "text": [
      "epoch:  0,time:242.17,loss:226138.08629\n",
      "epoch:  1,time:219.88,loss:225054.71521\n",
      "epoch:  2,time:207.59,loss:224088.20344\n",
      "epoch:  3,time:230.17,loss:223369.58104\n",
      "epoch:  4,time:233.67,loss:222496.00068\n",
      "epoch:  5,time:207.57,loss:221617.36115\n",
      "epoch:  6,time:207.67,loss:220924.58041\n",
      "epoch:  7,time:207.43,loss:220261.46286\n",
      "epoch:  8,time:207.45,loss:219747.60975\n",
      "epoch:  9,time:207.60,loss:219334.11874\n",
      "epoch: 10,time:207.44,loss:219082.29968\n",
      "epoch: 11,time:207.67,loss:218738.18179\n",
      "epoch: 12,time:207.42,loss:218367.66702\n",
      "epoch: 13,time:207.64,loss:218032.54709\n",
      "epoch: 14,time:207.59,loss:217707.83445\n",
      "epoch: 15,time:207.43,loss:217314.49365\n",
      "epoch: 16,time:207.66,loss:216895.07570\n",
      "epoch: 17,time:207.56,loss:216550.29222\n",
      "epoch: 18,time:207.61,loss:216296.09287\n",
      "epoch: 19,time:207.47,loss:216154.98647\n",
      "epoch: 20,time:207.50,loss:215925.29753\n",
      "epoch: 21,time:207.63,loss:215742.37219\n",
      "epoch: 22,time:207.42,loss:215551.32966\n",
      "epoch: 23,time:207.56,loss:215299.35735\n",
      "epoch: 24,time:207.52,loss:215112.38104\n",
      "epoch: 25,time:207.44,loss:214864.82707\n",
      "epoch: 26,time:207.26,loss:214594.71451\n",
      "epoch: 27,time:207.31,loss:214302.72225\n",
      "epoch: 28,time:207.12,loss:213899.50590\n",
      "epoch: 29,time:207.22,loss:213767.04501\n",
      "epoch: 30,time:207.17,loss:213419.47896\n",
      "epoch: 31,time:207.27,loss:213163.53354\n",
      "epoch: 32,time:207.34,loss:212876.12305\n",
      "epoch: 33,time:207.40,loss:212650.48833\n",
      "epoch: 34,time:207.24,loss:212410.50400\n",
      "epoch: 35,time:207.23,loss:212178.14741\n",
      "epoch: 36,time:207.27,loss:211895.16782\n",
      "epoch: 37,time:207.05,loss:211701.96008\n"
     ]
    },
    {
     "ename": "KeyboardInterrupt",
     "evalue": "",
     "output_type": "error",
     "traceback": [
      "\u001b[0;31m---------------------------------------------------------------------------\u001b[0m",
      "\u001b[0;31mKeyboardInterrupt\u001b[0m                         Traceback (most recent call last)",
      "\u001b[0;32m<ipython-input-38-14ac2d01cca1>\u001b[0m in \u001b[0;36m<module>\u001b[0;34m()\u001b[0m\n\u001b[1;32m      6\u001b[0m         feed_dict={encoder_data:batch[0],decoder_data:batch[1],\n\u001b[1;32m      7\u001b[0m                       target_data:batch[2],target_weights:batch[3]}\n\u001b[0;32m----> 8\u001b[0;31m         \u001b[0mloss\u001b[0m\u001b[0;34m,\u001b[0m\u001b[0m_\u001b[0m\u001b[0;34m=\u001b[0m\u001b[0msess\u001b[0m\u001b[0;34m.\u001b[0m\u001b[0mrun\u001b[0m\u001b[0;34m(\u001b[0m\u001b[0;34m[\u001b[0m\u001b[0mcost\u001b[0m\u001b[0;34m,\u001b[0m\u001b[0mtrain_op\u001b[0m\u001b[0;34m]\u001b[0m\u001b[0;34m,\u001b[0m\u001b[0mfeed_dict\u001b[0m\u001b[0;34m=\u001b[0m\u001b[0mfeed_dict\u001b[0m\u001b[0;34m)\u001b[0m\u001b[0;34m\u001b[0m\u001b[0m\n\u001b[0m\u001b[1;32m      9\u001b[0m         \u001b[0mtotal_loss\u001b[0m\u001b[0;34m=\u001b[0m\u001b[0mtotal_loss\u001b[0m\u001b[0;34m+\u001b[0m\u001b[0mloss\u001b[0m\u001b[0;34m\u001b[0m\u001b[0m\n\u001b[1;32m     10\u001b[0m     \u001b[0msaver\u001b[0m\u001b[0;34m.\u001b[0m\u001b[0msave\u001b[0m\u001b[0;34m(\u001b[0m\u001b[0msess\u001b[0m\u001b[0;34m,\u001b[0m\u001b[0;34m\"./save_real/model.ckpt\"\u001b[0m\u001b[0;34m)\u001b[0m\u001b[0;34m\u001b[0m\u001b[0m\n",
      "\u001b[0;32m~/anaconda3/lib/python3.6/site-packages/tensorflow/python/client/session.py\u001b[0m in \u001b[0;36mrun\u001b[0;34m(self, fetches, feed_dict, options, run_metadata)\u001b[0m\n\u001b[1;32m    898\u001b[0m     \u001b[0;32mtry\u001b[0m\u001b[0;34m:\u001b[0m\u001b[0;34m\u001b[0m\u001b[0m\n\u001b[1;32m    899\u001b[0m       result = self._run(None, fetches, feed_dict, options_ptr,\n\u001b[0;32m--> 900\u001b[0;31m                          run_metadata_ptr)\n\u001b[0m\u001b[1;32m    901\u001b[0m       \u001b[0;32mif\u001b[0m \u001b[0mrun_metadata\u001b[0m\u001b[0;34m:\u001b[0m\u001b[0;34m\u001b[0m\u001b[0m\n\u001b[1;32m    902\u001b[0m         \u001b[0mproto_data\u001b[0m \u001b[0;34m=\u001b[0m \u001b[0mtf_session\u001b[0m\u001b[0;34m.\u001b[0m\u001b[0mTF_GetBuffer\u001b[0m\u001b[0;34m(\u001b[0m\u001b[0mrun_metadata_ptr\u001b[0m\u001b[0;34m)\u001b[0m\u001b[0;34m\u001b[0m\u001b[0m\n",
      "\u001b[0;32m~/anaconda3/lib/python3.6/site-packages/tensorflow/python/client/session.py\u001b[0m in \u001b[0;36m_run\u001b[0;34m(self, handle, fetches, feed_dict, options, run_metadata)\u001b[0m\n\u001b[1;32m   1133\u001b[0m     \u001b[0;32mif\u001b[0m \u001b[0mfinal_fetches\u001b[0m \u001b[0;32mor\u001b[0m \u001b[0mfinal_targets\u001b[0m \u001b[0;32mor\u001b[0m \u001b[0;34m(\u001b[0m\u001b[0mhandle\u001b[0m \u001b[0;32mand\u001b[0m \u001b[0mfeed_dict_tensor\u001b[0m\u001b[0;34m)\u001b[0m\u001b[0;34m:\u001b[0m\u001b[0;34m\u001b[0m\u001b[0m\n\u001b[1;32m   1134\u001b[0m       results = self._do_run(handle, final_targets, final_fetches,\n\u001b[0;32m-> 1135\u001b[0;31m                              feed_dict_tensor, options, run_metadata)\n\u001b[0m\u001b[1;32m   1136\u001b[0m     \u001b[0;32melse\u001b[0m\u001b[0;34m:\u001b[0m\u001b[0;34m\u001b[0m\u001b[0m\n\u001b[1;32m   1137\u001b[0m       \u001b[0mresults\u001b[0m \u001b[0;34m=\u001b[0m \u001b[0;34m[\u001b[0m\u001b[0;34m]\u001b[0m\u001b[0;34m\u001b[0m\u001b[0m\n",
      "\u001b[0;32m~/anaconda3/lib/python3.6/site-packages/tensorflow/python/client/session.py\u001b[0m in \u001b[0;36m_do_run\u001b[0;34m(self, handle, target_list, fetch_list, feed_dict, options, run_metadata)\u001b[0m\n\u001b[1;32m   1314\u001b[0m     \u001b[0;32mif\u001b[0m \u001b[0mhandle\u001b[0m \u001b[0;32mis\u001b[0m \u001b[0;32mNone\u001b[0m\u001b[0;34m:\u001b[0m\u001b[0;34m\u001b[0m\u001b[0m\n\u001b[1;32m   1315\u001b[0m       return self._do_call(_run_fn, feeds, fetches, targets, options,\n\u001b[0;32m-> 1316\u001b[0;31m                            run_metadata)\n\u001b[0m\u001b[1;32m   1317\u001b[0m     \u001b[0;32melse\u001b[0m\u001b[0;34m:\u001b[0m\u001b[0;34m\u001b[0m\u001b[0m\n\u001b[1;32m   1318\u001b[0m       \u001b[0;32mreturn\u001b[0m \u001b[0mself\u001b[0m\u001b[0;34m.\u001b[0m\u001b[0m_do_call\u001b[0m\u001b[0;34m(\u001b[0m\u001b[0m_prun_fn\u001b[0m\u001b[0;34m,\u001b[0m \u001b[0mhandle\u001b[0m\u001b[0;34m,\u001b[0m \u001b[0mfeeds\u001b[0m\u001b[0;34m,\u001b[0m \u001b[0mfetches\u001b[0m\u001b[0;34m)\u001b[0m\u001b[0;34m\u001b[0m\u001b[0m\n",
      "\u001b[0;32m~/anaconda3/lib/python3.6/site-packages/tensorflow/python/client/session.py\u001b[0m in \u001b[0;36m_do_call\u001b[0;34m(self, fn, *args)\u001b[0m\n\u001b[1;32m   1320\u001b[0m   \u001b[0;32mdef\u001b[0m \u001b[0m_do_call\u001b[0m\u001b[0;34m(\u001b[0m\u001b[0mself\u001b[0m\u001b[0;34m,\u001b[0m \u001b[0mfn\u001b[0m\u001b[0;34m,\u001b[0m \u001b[0;34m*\u001b[0m\u001b[0margs\u001b[0m\u001b[0;34m)\u001b[0m\u001b[0;34m:\u001b[0m\u001b[0;34m\u001b[0m\u001b[0m\n\u001b[1;32m   1321\u001b[0m     \u001b[0;32mtry\u001b[0m\u001b[0;34m:\u001b[0m\u001b[0;34m\u001b[0m\u001b[0m\n\u001b[0;32m-> 1322\u001b[0;31m       \u001b[0;32mreturn\u001b[0m \u001b[0mfn\u001b[0m\u001b[0;34m(\u001b[0m\u001b[0;34m*\u001b[0m\u001b[0margs\u001b[0m\u001b[0;34m)\u001b[0m\u001b[0;34m\u001b[0m\u001b[0m\n\u001b[0m\u001b[1;32m   1323\u001b[0m     \u001b[0;32mexcept\u001b[0m \u001b[0merrors\u001b[0m\u001b[0;34m.\u001b[0m\u001b[0mOpError\u001b[0m \u001b[0;32mas\u001b[0m \u001b[0me\u001b[0m\u001b[0;34m:\u001b[0m\u001b[0;34m\u001b[0m\u001b[0m\n\u001b[1;32m   1324\u001b[0m       \u001b[0mmessage\u001b[0m \u001b[0;34m=\u001b[0m \u001b[0mcompat\u001b[0m\u001b[0;34m.\u001b[0m\u001b[0mas_text\u001b[0m\u001b[0;34m(\u001b[0m\u001b[0me\u001b[0m\u001b[0;34m.\u001b[0m\u001b[0mmessage\u001b[0m\u001b[0;34m)\u001b[0m\u001b[0;34m\u001b[0m\u001b[0m\n",
      "\u001b[0;32m~/anaconda3/lib/python3.6/site-packages/tensorflow/python/client/session.py\u001b[0m in \u001b[0;36m_run_fn\u001b[0;34m(feed_dict, fetch_list, target_list, options, run_metadata)\u001b[0m\n\u001b[1;32m   1305\u001b[0m       \u001b[0mself\u001b[0m\u001b[0;34m.\u001b[0m\u001b[0m_extend_graph\u001b[0m\u001b[0;34m(\u001b[0m\u001b[0;34m)\u001b[0m\u001b[0;34m\u001b[0m\u001b[0m\n\u001b[1;32m   1306\u001b[0m       return self._call_tf_sessionrun(\n\u001b[0;32m-> 1307\u001b[0;31m           options, feed_dict, fetch_list, target_list, run_metadata)\n\u001b[0m\u001b[1;32m   1308\u001b[0m \u001b[0;34m\u001b[0m\u001b[0m\n\u001b[1;32m   1309\u001b[0m     \u001b[0;32mdef\u001b[0m \u001b[0m_prun_fn\u001b[0m\u001b[0;34m(\u001b[0m\u001b[0mhandle\u001b[0m\u001b[0;34m,\u001b[0m \u001b[0mfeed_dict\u001b[0m\u001b[0;34m,\u001b[0m \u001b[0mfetch_list\u001b[0m\u001b[0;34m)\u001b[0m\u001b[0;34m:\u001b[0m\u001b[0;34m\u001b[0m\u001b[0m\n",
      "\u001b[0;32m~/anaconda3/lib/python3.6/site-packages/tensorflow/python/client/session.py\u001b[0m in \u001b[0;36m_call_tf_sessionrun\u001b[0;34m(self, options, feed_dict, fetch_list, target_list, run_metadata)\u001b[0m\n\u001b[1;32m   1407\u001b[0m       return tf_session.TF_SessionRun_wrapper(\n\u001b[1;32m   1408\u001b[0m           \u001b[0mself\u001b[0m\u001b[0;34m.\u001b[0m\u001b[0m_session\u001b[0m\u001b[0;34m,\u001b[0m \u001b[0moptions\u001b[0m\u001b[0;34m,\u001b[0m \u001b[0mfeed_dict\u001b[0m\u001b[0;34m,\u001b[0m \u001b[0mfetch_list\u001b[0m\u001b[0;34m,\u001b[0m \u001b[0mtarget_list\u001b[0m\u001b[0;34m,\u001b[0m\u001b[0;34m\u001b[0m\u001b[0m\n\u001b[0;32m-> 1409\u001b[0;31m           run_metadata)\n\u001b[0m\u001b[1;32m   1410\u001b[0m     \u001b[0;32melse\u001b[0m\u001b[0;34m:\u001b[0m\u001b[0;34m\u001b[0m\u001b[0m\n\u001b[1;32m   1411\u001b[0m       \u001b[0;32mwith\u001b[0m \u001b[0merrors\u001b[0m\u001b[0;34m.\u001b[0m\u001b[0mraise_exception_on_not_ok_status\u001b[0m\u001b[0;34m(\u001b[0m\u001b[0;34m)\u001b[0m \u001b[0;32mas\u001b[0m \u001b[0mstatus\u001b[0m\u001b[0;34m:\u001b[0m\u001b[0;34m\u001b[0m\u001b[0m\n",
      "\u001b[0;31mKeyboardInterrupt\u001b[0m: "
     ]
    }
   ],
   "source": [
    "for epoch in range(epochs):\n",
    "    total_loss=0\n",
    "    start=time.time()\n",
    "    for batch in get_batches(batch_size,encoder_input_texts_int,decoder_input_texts_int,\n",
    "                                decoder_target_texts_int,decoder_pad_int, encoder_pad_int):\n",
    "        feed_dict={encoder_data:batch[0],decoder_data:batch[1],\n",
    "                      target_data:batch[2],target_weights:batch[3]}\n",
    "        loss,_=sess.run([cost,train_op],feed_dict=feed_dict)\n",
    "        total_loss=total_loss+loss\n",
    "    saver.save(sess,\"./save_real/model.ckpt\")\n",
    "    print(\"epoch:%3d,time:%5.2f,loss:%6.5f\"%(epoch,time.time()-start,total_loss))"
   ]
  },
  {
   "cell_type": "code",
   "execution_count": 39,
   "metadata": {},
   "outputs": [],
   "source": [
    "en=batch[0]\n",
    "de=np.zeros_like(batch[1])\n",
    "de[:,0]=batch[1][:,0]\n",
    "pred=np.zeros_like(batch[1])"
   ]
  },
  {
   "cell_type": "code",
   "execution_count": 40,
   "metadata": {},
   "outputs": [],
   "source": [
    "for i in range(batch[1].shape[1]-1):\n",
    "    pred_,test=sess.run([outputs,de_M_A1],feed_dict={encoder_data:en,decoder_data:de})\n",
    "    de[:,i+1]=pred_[:,i]\n",
    "    pred[:,i]=pred_[:,i]\n",
    "pred_,test2=sess.run([outputs,de_M_A1],feed_dict={encoder_data:en,decoder_data:de})\n",
    "pred[:,i+1]=pred_[:,i+1]"
   ]
  },
  {
   "cell_type": "code",
   "execution_count": 41,
   "metadata": {
    "scrolled": true
   },
   "outputs": [
    {
     "data": {
      "text/plain": [
       "array([[0., 0., 0., ..., 0., 0., 0.],\n",
       "       [0., 0., 0., ..., 0., 0., 0.],\n",
       "       [0., 0., 0., ..., 0., 0., 0.],\n",
       "       ...,\n",
       "       [0., 0., 0., ..., 0., 0., 0.],\n",
       "       [0., 0., 0., ..., 0., 0., 0.],\n",
       "       [0., 0., 0., ..., 0., 0., 0.]], dtype=float32)"
      ]
     },
     "execution_count": 41,
     "metadata": {},
     "output_type": "execute_result"
    }
   ],
   "source": [
    "(test-test2)[:,1]"
   ]
  },
  {
   "cell_type": "code",
   "execution_count": 42,
   "metadata": {
    "scrolled": true
   },
   "outputs": [
    {
     "name": "stdout",
     "output_type": "stream",
     "text": [
      "-------\n",
      "一片东山下，孤舟泛有风。此中无一事，何处有长安。月出山横笛，风吹水落空。何当此相见，此夕在空山。\n",
      "醉知\n",
      "-------\n",
      "山寺僧房宿，山门树色连。山僧无伴院，林鸟有人看。静落僧中寺，寒寒日上楼。此中无一事，何处是何年。\n",
      "吟诗\n",
      "-------\n",
      "南朝有名士，西望见东山。山色千万叠，山光万万重。云霞藏雨霁，水月照江波。知君有知己，知尔独归休。\n",
      "醉知\n",
      "-------\n",
      "南朝有知己，东望见何峰。海上三湘水，江南万里天。山遥晴野色，水阔晚霞光。知君不可见，此去不相思。\n",
      "去年\n",
      "-------\n",
      "闲居闲夜坐，闲卧出家林。野阔无人迹，山寒有鹤声。闲门无处问，醉卧有时来。明日相思苦，闲门对落晖。\n",
      "醉眠\n",
      "-------\n",
      "夜静中山寺，秋深坐石房。秋声闻磬韵，夜色入禅心。静入云山影，寒回月影微。何当此相访，相伴白云闲。\n",
      "\n",
      "阳\n",
      "-------\n",
      "南北山云里，东山独自安。山中无事处，山下有何人。海树松声满，山云雨影微。何当知我辈，相送入天涯。\n",
      "吟白\n",
      "-------\n",
      "一岁寒更早，相逢此夜阑。此时无限恨，何处是无成。醉后醒来醉，愁多病起愁醒。明朝夕醉，不是旧相思。\n",
      "吟残\n",
      "-------\n",
      "春风吹雨声，春尽落花残。不惜红芳草，何妨白玉钗寒露香浓露滴，风动早风吹。莫惜春风起，春寒满树枝。\n",
      "醉知\n",
      "-------\n",
      "一室从清凉，何人知此心。此中无外日，何处有中心。静坐云生雨，寒声月满禅。何当此相访，相伴老僧禅。\n",
      "任浮\n",
      "-------\n",
      "塞北风吹白，沙南风吹起。沙场武战血，沙月照秦人。战马随风急，胡人向月残。无因见说骨，不是武威平。\n",
      "化龙\n",
      "-------\n",
      "山中多野性，独自有闲心。野步寻僧去，山僧入梦归。山寒过晚树，野阔入寒云扉。明月中兴，相思入梦频。\n",
      "吟诗\n",
      "-------\n",
      "天明明明月，万里白云深。露白云生白，风清露滴青。光含玉砌滴，影入金帘露。明日东山下，相思在剡中。\n",
      "歌何\n",
      "-------\n",
      "一片碧云端，一竿青青青。不知人世乱，只是爱公卿。不得一竿者，不知万里行。何当知此行，一片月华清。\n",
      "歌不\n",
      "-------\n",
      "我有一朝，我知无不可期。我知无所得，我谓我襟袖。不知不可见，其奈何为邻。我谓何妨身，何妨是我家。\n",
      "往来\n",
      "-------\n",
      "我有一水头，不知不可过。我有一，不得尔之之光，不如是其人识此中，不得山中得不同来去，其中有月如。\n",
      "歌不\n",
      "-------\n",
      "山中有仙鹤，万古见灵踪。云雨千峰影，风烟万木光。云凝朝露滴，云动夕阳分。何必东山去，何妨见此生。\n",
      "歌终\n",
      "-------\n",
      "龙鳞不可之，风高，不可之之之之天下，不可可之之。至乐不可之，不可可可知\n",
      "。至今不愿，其中无所之。\n",
      "往来\n",
      "-------\n",
      "万物与谁同，云霞心自知。不知何处去，空见几时来。鹤静云藏月，猿啼洞满林。何当此相访，相伴有谁知。\n",
      "醉知\n",
      "-------\n",
      "春尽春残腊，春寒尽日闲。不知春色满，犹有夜声来。野步寻幽径，山空入古城。春风不可见，春色满庭花。\n",
      "醉眠\n",
      "-------\n",
      "龙门不可得，自是不可亲。一言不可得，我饮不可为。一日，不是山，我心不同。我独自伤情，何当知玄虚名。\n",
      "\n",
      "\n",
      "-------\n",
      "龙门不可得，自是不可亲。一言不可得，我饮不可为。一日，不是山，我心不同。我独自伤情，何当知玄虚名。\n",
      "\n",
      "\n",
      "-------\n",
      "野步入岩扉，山僧入谷流。水边山色里，山下水声中。野店寒来黑，渔家远去孤。何当此相访，此外是何人。\n",
      "醉不\n",
      "-------\n",
      "山中有仙境，独自有灵踪。山川千万叠，山雨万重重。石田寒露滴，松月晓风生。何当重回首，应见白云端。\n",
      "歌终\n",
      "-------\n",
      "春色满山川，春光入翠微。野烟生暮雨，春草入寒烟。野外春无力，春中野有余。春风不可见，春梦绕春波。\n",
      "去不\n",
      "-------\n",
      "一身无所得，一日是何之。不知何处去，空见一身归。不知何处去，空见一身闲。知非不可见，此去不相违。\n",
      "起知\n",
      "-------\n",
      "南去去去去，东山去路长。海门千万叠，天地万重重。海树千峰出，天云万木澄。何当此无事，此去不相随。\n",
      "佩谁\n",
      "-------\n",
      "师去不可见，云山独自闲。自从南国去，何必北山来。海树生云母，天台入雪霜。谁知师道侣，此去不相违。\n",
      "行无\n",
      "-------\n",
      "一身无所得，一日是何乡。不知何处去，空见不如今。道情何以识，诗句得无为山归。不可见，空使我相亲。\n",
      "帝道\n",
      "-------\n",
      "南岳去何处，东山独自闲。山光摇野寺，水色入云门。野寺僧相伴，禅门日又西归。何时得名，应笑不离云。\n",
      "帝无\n",
      "-------\n",
      "山中无俗迹，一去不知何。白石无人识，青山有鹤归。松声寒有雪，石色暮无云。此境何时见，相思入汉安边来几回\n",
      "-------\n",
      "万古松杉里，千年万古同。不知何足贵，何必是禅知。静落寒露滴，寒空落月明。何当知我谓，此外有高名。\n",
      "吟坐\n"
     ]
    }
   ],
   "source": [
    "for i in range(pred.shape[0]):\n",
    "    poem=\"\"\n",
    "    for j in range(pred.shape[1]):\n",
    "        poem+=int_str[pred[i][j]]\n",
    "    print(\"-------\")\n",
    "    print(poem)"
   ]
  },
  {
   "cell_type": "code",
   "execution_count": 43,
   "metadata": {
    "scrolled": true
   },
   "outputs": [
    {
     "name": "stdout",
     "output_type": "stream",
     "text": [
      "-------\n",
      "一片东山下，孤舟泛有风。此中无一事，何处有长安。月出山横笛，风吹水落空。何当此相见，此夕在空山。\n",
      "醉知\n",
      "-------\n",
      "山寺僧房宿，山门树色连。山僧无伴院，林鸟有人看。静落僧中寺，寒寒日上楼。此中无一事，何处是何年。\n",
      "吟诗\n",
      "-------\n",
      "南朝有名士，西望见东山。山色千万叠，山光万万重。云霞藏雨霁，水月照江波。知君有知己，知尔独归休。\n",
      "醉知\n",
      "-------\n",
      "南朝有知己，东望见何峰。海上三湘水，江南万里天。山遥晴野色，水阔晚霞光。知君不可见，此去不相思。\n",
      "去年\n",
      "-------\n",
      "闲居闲夜坐，闲卧出家林。野阔无人迹，山寒有鹤声。闲门无处问，醉卧有时来。明日相思苦，闲门对落晖。\n",
      "醉眠\n",
      "-------\n",
      "夜静中山寺，秋深坐石房。秋声闻磬韵，夜色入禅心。静入云山影，寒回月影微。何当此相访，相伴白云闲。\n",
      "\n",
      "阳\n",
      "-------\n",
      "南北山云里，东山独自安。山中无事处，山下有何人。海树松声满，山云雨影微。何当知我辈，相送入天涯。\n",
      "吟白\n",
      "-------\n",
      "一岁寒更早，相逢此夜阑。此时无限恨，何处是无成。醉后醒来醉，愁多病起愁醒。明朝夕醉，不是旧相思。\n",
      "吟残\n",
      "-------\n",
      "春风吹雨声，春尽落花残。不惜红芳草，何妨白玉钗寒露香浓露滴，风动早风吹。莫惜春风起，春寒满树枝。\n",
      "醉知\n",
      "-------\n",
      "一室从清凉，何人知此心。此中无外日，何处有中心。静坐云生雨，寒声月满禅。何当此相访，相伴老僧禅。\n",
      "任浮\n",
      "-------\n",
      "塞北风吹白，沙南风吹起。沙场武战血，沙月照秦人。战马随风急，胡人向月残。无因见说骨，不是武威平。\n",
      "化龙\n",
      "-------\n",
      "山中多野性，独自有闲心。野步寻僧去，山僧入梦归。山寒过晚树，野阔入寒云扉。明月中兴，相思入梦频。\n",
      "吟诗\n",
      "-------\n",
      "天明明明月，万里白云深。露白云生白，风清露滴青。光含玉砌滴，影入金帘露。明日东山下，相思在剡中。\n",
      "歌何\n",
      "-------\n",
      "一片碧云端，一竿青青青。不知人世乱，只是爱公卿。不得一竿者，不知万里行。何当知此行，一片月华清。\n",
      "歌不\n",
      "-------\n",
      "我有一朝，我知无不可期。我知无所得，我谓我襟袖。不知不可见，其奈何为邻。我谓何妨身，何妨是我家。\n",
      "往来\n",
      "-------\n",
      "我有一水头，不知不可过。我有一，不得尔之之光，不如是其人识此中，不得山中得不同来去，其中有月如。\n",
      "歌不\n",
      "-------\n",
      "山中有仙鹤，万古见灵踪。云雨千峰影，风烟万木光。云凝朝露滴，云动夕阳分。何必东山去，何妨见此生。\n",
      "歌终\n",
      "-------\n",
      "龙鳞不可之，风高，不可之之之之天下，不可可之之。至乐不可之，不可可可知\n",
      "。至今不愿，其中无所之。\n",
      "往来\n",
      "-------\n",
      "万物与谁同，云霞心自知。不知何处去，空见几时来。鹤静云藏月，猿啼洞满林。何当此相访，相伴有谁知。\n",
      "醉知\n",
      "-------\n",
      "春尽春残腊，春寒尽日闲。不知春色满，犹有夜声来。野步寻幽径，山空入古城。春风不可见，春色满庭花。\n",
      "醉眠\n",
      "-------\n",
      "龙门不可得，自是不可亲。一言不可得，我饮不可为。一日，不是山，我心不同。我独自伤情，何当知玄虚名。\n",
      "\n",
      "\n",
      "-------\n",
      "龙门不可得，自是不可亲。一言不可得，我饮不可为。一日，不是山，我心不同。我独自伤情，何当知玄虚名。\n",
      "\n",
      "\n",
      "-------\n",
      "野步入岩扉，山僧入谷流。水边山色里，山下水声中。野店寒来黑，渔家远去孤。何当此相访，此外是何人。\n",
      "醉不\n",
      "-------\n",
      "山中有仙境，独自有灵踪。山川千万叠，山雨万重重。石田寒露滴，松月晓风生。何当重回首，应见白云端。\n",
      "歌终\n",
      "-------\n",
      "春色满山川，春光入翠微。野烟生暮雨，春草入寒烟。野外春无力，春中野有余。春风不可见，春梦绕春波。\n",
      "去不\n",
      "-------\n",
      "一身无所得，一日是何之。不知何处去，空见一身归。不知何处去，空见一身闲。知非不可见，此去不相违。\n",
      "起知\n",
      "-------\n",
      "南去去去去，东山去路长。海门千万叠，天地万重重。海树千峰出，天云万木澄。何当此无事，此去不相随。\n",
      "佩谁\n",
      "-------\n",
      "师去不可见，云山独自闲。自从南国去，何必北山来。海树生云母，天台入雪霜。谁知师道侣，此去不相违。\n",
      "行无\n",
      "-------\n",
      "一身无所得，一日是何乡。不知何处去，空见不如今。道情何以识，诗句得无为山归。不可见，空使我相亲。\n",
      "帝道\n",
      "-------\n",
      "南岳去何处，东山独自闲。山光摇野寺，水色入云门。野寺僧相伴，禅门日又西归。何时得名，应笑不离云。\n",
      "帝无\n",
      "-------\n",
      "山中无俗迹，一去不知何。白石无人识，青山有鹤归。松声寒有雪，石色暮无云。此境何时见，相思入汉安边来几回\n",
      "-------\n",
      "万古松杉里，千年万古同。不知何足贵，何必是禅知。静落寒露滴，寒空落月明。何当知我谓，此外有高名。\n",
      "吟坐\n"
     ]
    }
   ],
   "source": [
    "pred=pred_\n",
    "for i in range(pred.shape[0]):\n",
    "    poem=\"\"\n",
    "    for j in range(pred.shape[1]):\n",
    "        poem+=int_str[pred[i][j]]\n",
    "    print(\"-------\")\n",
    "    print(poem)"
   ]
  },
  {
   "cell_type": "code",
   "execution_count": 44,
   "metadata": {
    "scrolled": true
   },
   "outputs": [
    {
     "name": "stdout",
     "output_type": "stream",
     "text": [
      "-------\n",
      "一光此夜中，此古共空穷。此时看寒水，满山树影风。月宫迷共醉，水国静同侵。此想东楼上，相应在此公。\n",
      "\n",
      "不\n",
      "-------\n",
      "山叶满朝寺，清僧不寺开。水光无出谷，山老雨飞回。静井寒横草，寒廊画杂苔。何心多无歇，长世不相哀。何\n",
      "不\n",
      "-------\n",
      "南际山中胜，东西得木空。江江归野里，清浪入烟林。野有山山醉，诗无野客看。知知东文钓，应去有何踪。\n",
      "\n",
      "有\n",
      "-------\n",
      "南少知仙乱，春科尚未仙。江谋与无士，诗首是佳人。楚马行岐路，山钟入月离。知书归不守，相看故人同。知\n",
      "不\n",
      "-------\n",
      "闲郎不已白，不未竹朝开。不病不贫宅，开贫似病衣。窗花春客醉，山雨向僧归。自说公山下，相萝满径乡。\n",
      "\n",
      "有\n",
      "-------\n",
      "夜生何此少，相散雪君闲。此世无相磬，客摇落有风。云凝清有际，月雪似山中。此宿同相此，相松此远公。何\n",
      "不\n",
      "-------\n",
      "南衣何少屈，此自几川朝。不此不为业，归官自得耕。云声山处雪，松入洞山平。莫得东人去，相随入者名。\n",
      "\n",
      "不\n",
      "-------\n",
      "一翁岁除夜，病酒不悠然。此白虽年白，花清叶雪天。病醒闲枕上，愁入枕炉香。此下三相此，相朝是别年。\n",
      "\n",
      "吟\n",
      "-------\n",
      "春花寒梅发，人惜在中吹。不艳含初露，香香风满枝。香花人鸟没，吹任野蜂随。今日东公醉，春人更接花，。\n",
      "歌\n",
      "-------\n",
      "一室从何如，相门何此开。此香无自合，松迹夜犹回。静外松松影，窗寒万月中。谁心不外景，谁是是清台。\n",
      "\n",
      "觉\n",
      "-------\n",
      "塞勒金微贵，，汉山万翠华。胡中人起雪，胡前月照沙。夜儿虏角管，胡虏卷锦衣。胡回秦南望，无落草胜家。\n",
      "有\n",
      "-------\n",
      "山中无谁川，春留何五猿。山云生树影，白照入江南。野雨和风落，寒风夜火遥。何朝不药客，一我独何成。\n",
      "\n",
      "歌\n",
      "-------\n",
      "天今秋此夜，今听火寥官明。此是月华，，何应秋色，。无摇空树，，光满白九平。今常满自，，不旧自知情。\n",
      "有\n",
      "-------\n",
      "一涛有不轻，不之之有须。不头不尔去，波处田之食网。不知鱼溪，，自随鱼夕，。秋有钓鱼主，不尔波涛有。\n",
      "自\n",
      "-------\n",
      "我何有新鱼，不个声夫儿。不中生夫，，风里子君。。不从不不得，不有烟相遇。何谢不无穷，不为不足可去。\n",
      "自\n",
      "-------\n",
      "我于野其中，不为天天坞。不我不不水，歌香满我雾。不闲不色水，，不不生采。。不暮回笑，，不间双金轻。\n",
      "醉\n",
      "-------\n",
      "山羡山侯国，不云空万重。云霞随雪绶，云雨自仙题。云声云云子，云教今子中归。今为为此，，何有此玄微。\n",
      "\n",
      "\n",
      "-------\n",
      "龙之之，，人之之，。命。。。，不之。不。，之，，鱼，，，不可。，。不，知之，非，，，其。之之，可目\n",
      "。\n",
      "-------\n",
      "万家柏禅客，云家独紫城。自衣谁上合，垂火水石涛。。云随石雨，，云啼清谷寒。莫闻猿桂，，不入中洲。。\n",
      "有\n",
      "-------\n",
      "春步闲琴竹，春园花径通。野中支著火，，春入竹花红。野看无出，，闲耕人吹红。春何不此，，不药得人画。\n",
      "醉\n",
      "-------\n",
      "龙川三阳道少，，不边天蜀道无所。江梅，道，无，不中上公，，天于之友，不知书，三之道，，不不不相，，\n",
      "\n",
      "\n",
      "-------\n",
      "龙为不，浪，不虎牙，珠。一小无守请，门画不珠，。，玄醉玄，，我身逐不何。。如君，不期，不不国国陵。\n",
      "\n",
      "\n",
      "-------\n",
      "野山有无溅，山龙不谷田。不秋无水庭，幽冷入帘风。野出相闲衣，，茶衣入新程。何烟中宿，，春十六峰前。\n",
      "醉\n",
      "-------\n",
      "山迹入留客，山人不世朝。山开千草入，山迥碧峰前。石草寒花枕，，松松桂未生。何常故寸，，不是君君。。\n",
      "醉\n",
      "-------\n",
      "春子与春何，，春后园流中。野草合过，，春源去不知通野花迷野，，春日照微风。何声春流，，春旧见剡中。\n",
      "歌\n",
      "-------\n",
      "一名与新城，名后主何诗。不日无如此，清天不不知。不人犹月白，，江老他清愧。何知相名，，不不泪如。。\n",
      "醉\n",
      "-------\n",
      "南风满天湘，云师何此乡。云云知野水火，看食白新苔。海江为门，，长云云浪。。何传此岁，，应一来何妨。\n",
      "有\n",
      "-------\n",
      "师锡出方山，，长凉岳难，。云瓶台去，，春海独无山。云残松城宿，云生白云田。何应何不，，应有鬓回。。\n",
      "\n",
      "\n",
      "-------\n",
      "一夷叶纷出，江吟又水滨。不毛生有雪，一事不无山。雪雪人声野，，江云落残巾。何际颜风，，不必见回亲。\n",
      "醉\n",
      "-------\n",
      "南老庭经滨，，禅房木何高。秋月终响，，一去闲人心。海僧僧过谷，野香雪相中。何余一已，，应是更寻之。\n",
      "有\n",
      "-------\n",
      "山日山下去，一入有闲安。自有云苔色，不看白石石。。云吹落外，，雪照石霞。。何此岩峰，，不房树布寒。\n",
      "有\n",
      "-------\n",
      "万掌今前得，常当此自心。不年无朽骨，一月岁寒僧。静色云松雪，泉边待月明。。何时出此，，一得火同携。\n",
      "上\n"
     ]
    }
   ],
   "source": [
    "pred=sess.run(outputs,feed_dict=feed_dict)\n",
    "for i in range(pred.shape[0]):\n",
    "    poem=\"\"\n",
    "    for j in range(pred.shape[1]):\n",
    "        poem+=int_str[pred[i][j]]\n",
    "    print(\"-------\")\n",
    "    print(poem)"
   ]
  },
  {
   "cell_type": "code",
   "execution_count": 33,
   "metadata": {},
   "outputs": [],
   "source": [
    "import matplotlib.pyplot as plt\n",
    "import seaborn as sns;sns.set()\n",
    "%matplotlib inline"
   ]
  },
  {
   "cell_type": "code",
   "execution_count": 37,
   "metadata": {},
   "outputs": [
    {
     "data": {
      "text/plain": [
       "<matplotlib.axes._subplots.AxesSubplot at 0x7fb1877a34a8>"
      ]
     },
     "execution_count": 37,
     "metadata": {},
     "output_type": "execute_result"
    },
    {
     "data": {
      "image/png": "[encoded data removed]",
      "text/plain": [
       "<Figure size 432x288 with 2 Axes>"
      ]
     },
     "metadata": {},
     "output_type": "display_data"
    }
   ],
   "source": [
    "a=sess.run(en_Atten1,feed_dict=feed_dict)\n",
    "sns.heatmap(a[2,:])"
   ]
  },
  {
   "cell_type": "code",
   "execution_count": null,
   "metadata": {},
   "outputs": [],
   "source": []
  }
 ],
 "metadata": {
  "kernelspec": {
   "display_name": "Python 3",
   "language": "python",
   "name": "python3"
  },
  "language_info": {
   "codemirror_mode": {
    "name": "ipython",
    "version": 3
   },
   "file_extension": ".py",
   "mimetype": "text/x-python",
   "name": "python",
   "nbconvert_exporter": "python",
   "pygments_lexer": "ipython3",
   "version": "3.6.4"
  }
 },
 "nbformat": 4,
 "nbformat_minor": 2
}
